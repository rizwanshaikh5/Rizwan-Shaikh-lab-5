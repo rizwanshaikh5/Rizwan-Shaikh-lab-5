{
 "cells": [
  {
   "cell_type": "code",
   "execution_count": 1,
   "metadata": {
    "scrolled": true
   },
   "outputs": [
    {
     "name": "stdout",
     "output_type": "stream",
     "text": [
      "Input the radius of  cylinder: 7\n",
      "Input the height of cylinder: 10\n",
      "Area of cylinder is : 747.70cm²\n",
      "Input the radius of cylinder: 11\n",
      "Input the height of cylinder: 12\n",
      "Volume of cylinder is : 506.84cm³\n"
     ]
    }
   ],
   "source": [
    "from math import pi\n",
    "def area():\n",
    "    r=int(input(\"Input the radius of  cylinder: \"))\n",
    "    h=int(input(\"Input the height of cylinder: \"))\n",
    "    Area=(2*pi*r*h)+(2*pi*r**2)\n",
    "    print(\"Area of cylinder is : {0:.{1}f}cm\\u00b2\".format(Area,2))\n",
    "area()\n",
    "    \n",
    "def volume():\n",
    "    r=int(input(\"Input the radius of cylinder: \"))\n",
    "    h=int(input(\"Input the height of cylinder: \"))\n",
    "    Volume=(4/3)*pi*r**2\n",
    "    print(\"Volume of cylinder is : {0:.{1}f}cm\\u00b3\".format(Volume,2))\n",
    "volume()"
   ]
  },
  {
   "cell_type": "code",
   "execution_count": 2,
   "metadata": {},
   "outputs": [
    {
     "name": "stdout",
     "output_type": "stream",
     "text": [
      "Input the length of rectangle: 12\n",
      "Input the Bredth of rectangle: 22\n",
      "Area of Rectangle is 264.00cm²\n",
      "Input the length of rectangle: 33\n",
      "Input the Bredth of rectangle: 44\n",
      "Perimeter of Rectangle is 154.00cm\n"
     ]
    }
   ],
   "source": [
    "def area():\n",
    "    L=eval(input(\"Input the length of rectangle: \"))\n",
    "    B=eval(input(\"Input the Bredth of rectangle: \"))\n",
    "    Area=L*B\n",
    "    print(\"Area of Rectangle is {0:.{1}f}cm\\u00b2\".format(Area,2))\n",
    "area()\n",
    "\n",
    "def Perimeter():\n",
    "    \n",
    "    L=eval(input(\"Input the length of rectangle: \"))\n",
    "    B=eval(input(\"Input the Bredth of rectangle: \"))\n",
    "    Perimeter=2*L+2*B\n",
    "    print(\"Perimeter of Rectangle is {0:.{1}f}cm\".format(Perimeter,2))\n",
    "Perimeter()"
   ]
  },
  {
   "cell_type": "code",
   "execution_count": 6,
   "metadata": {
    "scrolled": true
   },
   "outputs": [
    {
     "name": "stdout",
     "output_type": "stream",
     "text": [
      "Enter the first term of the sequance :77\n",
      "Enter the common difference of the sequance :2\n",
      "Enter nth term you want to know :21\n",
      "117\n",
      "Enter yes if you want to find anotherYes\n",
      "Completed\n"
     ]
    }
   ],
   "source": [
    "def arthseq():\n",
    "    first = eval(input(\"Enter the first term of the sequance :\"))\n",
    "    diff = eval(input(\"Enter the common difference of the sequance :\"))\n",
    "    n = eval(input(\"Enter nth term you want to know :\"))\n",
    "\n",
    "\n",
    "    nterm = (first + (n-1)*diff)\n",
    "         \n",
    "    print(nterm)\n",
    "\n",
    "    a = input(\"Enter yes if you want to find another\")\n",
    "    \n",
    "    while a == ('yes' or 'YES' or 'Yes'):\n",
    "        print('\\n')\n",
    "        n = eval(input(\"Enter nth term you want to know : \"))\n",
    "        nterm = (first + (n-1)*diff)\n",
    "        print(nterm)\n",
    "        a = input(\"Enter yes if you want to find another : \")\n",
    "    else:\n",
    "        print(\"Completed\")\n",
    "arthseq()"
   ]
  },
  {
   "cell_type": "code",
   "execution_count": 7,
   "metadata": {},
   "outputs": [
    {
     "name": "stdout",
     "output_type": "stream",
     "text": [
      "Enter String you want to know if it's palindrome :mom\n",
      "The word  mom  is palindrome\n"
     ]
    }
   ],
   "source": [
    "def palindrome():\n",
    "    word = str(input(\"Enter String you want to know if it's palindrome :\"))\n",
    "    rword= ''.join(reversed(word))\n",
    "\n",
    "    word.casefold()\n",
    "    if word.casefold() == rword.casefold():\n",
    "        print(\"The word \",word,\" is palindrome\")\n",
    "    else:\n",
    "        print(\"Sorry \",word,\" is not palindrome\")\n",
    "palindrome()"
   ]
  },
  {
   "cell_type": "code",
   "execution_count": 12,
   "metadata": {
    "collapsed": true
   },
   "outputs": [
    {
     "name": "stdout",
     "output_type": "stream",
     "text": [
      "Enter your Name : Rizwan Shaikh\n",
      "Enter your Father Name : Sadullah Shaikh\n",
      "Enter your Roll Number : 12345\n",
      "Obtained marks in English : 88\n",
      "Obtained marks in Math : 100\n",
      "Obatined marks in Urdu : 67\n",
      "Obtained marks in Science : 88\n",
      "Obtained marks in Islamiat : 71\n",
      "                    Karachi Board Of Intermidiate\n",
      " Name =  Rizwan Shaikh                    Roll Number = 12345\n",
      "Father name =  Sadullah Shaikh\n",
      "Total marks in English :  88 From 100\n",
      "Total marks in Maths :  100 From 100\n",
      "Total marks in Urdu :  67 From 75\n",
      "Total marks in Science :  88 From 100\n",
      "Total marks in islamiat :  71 From 75\n",
      "A1 Grade\n"
     ]
    }
   ],
   "source": [
    "def markshet():\n",
    "    name = input(\"Enter your Name : \")\n",
    "    father_name = input(\"Enter your Father Name : \")\n",
    "    roll_no = int(input(\"Enter your Roll Number : \"))\n",
    "    english = int(input(\"Obtained marks in English : \"))\n",
    "    math = int(input(\"Obtained marks in Math : \"))\n",
    "    urdu =  int(input(\"Obatined marks in Urdu : \"))\n",
    "    science = int(input(\"Obtained marks in Science : \"))\n",
    "    islamiat = int(input(\"Obtained marks in Islamiat : \"))\n",
    "    total = 450\n",
    "    obtained = (english + math + science + urdu + islamiat)\n",
    "\n",
    "    print(\"                    Karachi Board Of Intermidiate\")\n",
    "    \n",
    "    print(' Name = ' , name,'                  ' , 'Roll Number =', roll_no)\n",
    "    print(\"Father name = \", father_name)\n",
    "    \n",
    "    print(\"Total marks in English : \",english , \"From 100\")\n",
    "    print(\"Total marks in Maths : \",math , \"From 100\")\n",
    "    print(\"Total marks in Urdu : \",urdu , \"From 75\")\n",
    "    print(\"Total marks in Science : \",science ,\"From 100\")\n",
    "    print(\"Total marks in islamiat : \",islamiat, \"From 75\")\n",
    "    \n",
    "    if (obtained >= 380):\n",
    "        print(\"A1 Grade\")\n",
    "    if (obtained <= 300):\n",
    "        print(\"A Grade\")\n",
    "    if (obtained <= 270): \n",
    "        print(\"B Grade\")\n",
    "    if (obtained <= 200):\n",
    "        print(\"Fail\")\n",
    "                                        \n",
    "markshet()"
   ]
  },
  {
   "cell_type": "code",
   "execution_count": 13,
   "metadata": {
    "scrolled": true
   },
   "outputs": [
    {
     "name": "stdout",
     "output_type": "stream",
     "text": [
      "enter the value of initial velocity: 88\n",
      "enter the value of acceleration: 55\n",
      "enter the value of time: 4\n",
      "Final Velocity According to first Equation of motion : 308 m/s\n"
     ]
    }
   ],
   "source": [
    "from math import sqrt\n",
    "def law1():\n",
    "    U=eval(input(\"enter the value of initial velocity: \"))\n",
    "    A=eval(input(\"enter the value of acceleration: \"))\n",
    "    T=eval(input(\"enter the value of time: \"))\n",
    "    Fvelocity=U+A*T\n",
    "    print(\"Final Velocity According to first Equation of motion :\",Fvelocity,\"m/s\")\n",
    "law1()"
   ]
  },
  {
   "cell_type": "code",
   "execution_count": 14,
   "metadata": {},
   "outputs": [
    {
     "name": "stdout",
     "output_type": "stream",
     "text": [
      "enter the value of initial velocity: 88\n",
      "enter the value of time: 77\n",
      "enter the value of acceleration: 88\n",
      "Displacement According to second Equation of motion : 267652.0 Meter\n"
     ]
    }
   ],
   "source": [
    "def law2():\n",
    "    U=eval(input(\"enter the value of initial velocity: \"))\n",
    "    T=eval(input(\"enter the value of time: \"))\n",
    "    A=eval(input(\"enter the value of acceleration: \"))\n",
    "    Displacement=U*T+1/2*A*T**2\n",
    "    print(\"Displacement According to second Equation of motion :\",Displacement,\"Meter\")\n",
    "law2()"
   ]
  },
  {
   "cell_type": "code",
   "execution_count": 15,
   "metadata": {
    "scrolled": true
   },
   "outputs": [
    {
     "name": "stdout",
     "output_type": "stream",
     "text": [
      "enter the value of Displacement: 77\n",
      "enter the value of initial velocity: 87\n",
      "enter the value of acceleration: 88\n",
      "Final Velocity According to Third Equation of motion : 145.33m/s\n"
     ]
    }
   ],
   "source": [
    "def law3():\n",
    "    S=eval(input(\"enter the value of Displacement: \"))\n",
    "    U=eval(input(\"enter the value of initial velocity: \"))\n",
    "    A=eval(input(\"enter the value of acceleration: \"))\n",
    "    \n",
    "    Fvelocity=sqrt(U**2+2*A*S)\n",
    "    print(\"Final Velocity According to Third Equation of motion : {0:.{1}f}m/s\".format(Fvelocity,2))\n",
    "law3()"
   ]
  },
  {
   "cell_type": "code",
   "execution_count": 16,
   "metadata": {},
   "outputs": [
    {
     "name": "stdout",
     "output_type": "stream",
     "text": [
      "enter the value of initial Velocity: 77\n",
      "enter the value of angle: 56\n",
      "range of projectile motion is 560.95m\n",
      "Time taken by projectile motion is 13.03s\n",
      "Max height attained by projectile motion is  19967.60m\n"
     ]
    }
   ],
   "source": [
    "from math import sin,radians\n",
    "\n",
    "def Projectile():\n",
    "    g = 9.8\n",
    "    Vo=eval(input(\"enter the value of initial Velocity: \"))\n",
    "    Angle1=eval(input(\"enter the value of angle: \"))\n",
    "    Angle=radians(Angle1)\n",
    "    Range=(Vo**2*sin(2*Angle))/g\n",
    "    print(\"range of projectile motion is {0:.{1}f}m\".format(Range,2))\n",
    "    time=(2*Vo*sin(Angle))/g\n",
    "    print(\"Time taken by projectile motion is {0:.{1}f}s\".format(time,2))\n",
    "    Height=(Vo**2*sin(Angle)**2)/2*g\n",
    "    print(\"Max height attained by projectile motion is  {0:.{1}f}m\".format(Height,2))\n",
    "    \n",
    "Projectile()"
   ]
  },
  {
   "cell_type": "code",
   "execution_count": 17,
   "metadata": {},
   "outputs": [
    {
     "name": "stdout",
     "output_type": "stream",
     "text": [
      "enter your name: Rizwan\n",
      "nawziR\n"
     ]
    }
   ],
   "source": [
    "def reversename():\n",
    "    name =str(input(\"enter your name: \"))\n",
    "    rname =''.join(reversed(name))\n",
    "    print(rname )\n",
    "reversename()\n"
   ]
  },
  {
   "cell_type": "code",
   "execution_count": 20,
   "metadata": {},
   "outputs": [
    {
     "name": "stdout",
     "output_type": "stream",
     "text": [
      "['Z', 'q', 'h', 'e', 'i', 'v', 'A', 'p', 'i', 'q', 's', 'p']\n"
     ]
    }
   ],
   "source": [
    "def Encryption(Original, step):\n",
    "    Encrypted=[]\n",
    "    cryptText=[]\n",
    "    \n",
    "    uppercase=['A','B','C','D','E','F','G','H','I','J','K','L','M','N','O','P','Q','R','S','T','U','V','W','X','Y','Z']\n",
    "    lowercase=['a','b','c','d','e','f','g','h','i','j','k','l','m','n','o','p','q','r','s','t','u','v','w','x','y','z']\n",
    "    \n",
    "    for Letter in Original:\n",
    "        if Letter in uppercase:\n",
    "            index = uppercase.index(Letter)\n",
    "            encrypting = (index+step)%26\n",
    "            cryptText.append(encrypting)\n",
    "            Encryption = uppercase[encrypting]\n",
    "            Encrypted.append(Encryption)\n",
    "        elif Letter in lowercase:\n",
    "            index = lowercase.index(Letter)\n",
    "            crypting = (index+step)%26\n",
    "            cryptText.append(crypting)\n",
    "            Encryption = lowercase[crypting]\n",
    "            Encrypted.append(Encryption)\n",
    "            \n",
    "    return print(Encrypted)\n",
    "Encryption('Rizwan Shaikh',8)"
   ]
  },
  {
   "cell_type": "code",
   "execution_count": 21,
   "metadata": {},
   "outputs": [
    {
     "name": "stdout",
     "output_type": "stream",
     "text": [
      "enter the initial value: 0\n",
      "enter the final valuue: 90\n",
      "sin on 0 : 0.00\n",
      "cos on 0 : 1.00\n",
      "tan on 0 : 0.00\n",
      "sin on 30 : -0.99\n",
      "cos on 30 : 0.15\n",
      "tan on 30 : -6.41\n",
      "sin on 60 : -0.30\n",
      "cos on 60 : -0.95\n",
      "tan on 60 : 0.32\n",
      "sin on 90 : 0.89\n",
      "cos on 90 : -0.45\n",
      "tan on 90 : -2.00\n"
     ]
    }
   ],
   "source": [
    "from math import sin,cos,tan\n",
    "def table():\n",
    "    x=int(input(\"enter the initial value: \"))\n",
    "    y=int(input(\"enter the final valuue: \"))\n",
    "    for i in range(x,y+30,30):\n",
    "       \n",
    "        \n",
    "        print(\"sin on {0} : {1:.{2}f}\".format(i,sin(i),2))\n",
    "        print(\"cos on {0} : {1:.{2}f}\".format(i,cos(i),2))\n",
    "        print(\"tan on {0} : {1:.{2}f}\".format(i,tan(i),2))\n",
    "table()"
   ]
  }
 ],
 "metadata": {
  "kernelspec": {
   "display_name": "Python 3",
   "language": "python",
   "name": "python3"
  },
  "language_info": {
   "codemirror_mode": {
    "name": "ipython",
    "version": 3
   },
   "file_extension": ".py",
   "mimetype": "text/x-python",
   "name": "python",
   "nbconvert_exporter": "python",
   "pygments_lexer": "ipython3",
   "version": "3.7.3"
  }
 },
 "nbformat": 4,
 "nbformat_minor": 2
}
