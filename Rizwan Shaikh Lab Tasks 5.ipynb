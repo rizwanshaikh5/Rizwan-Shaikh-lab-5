{
 "cells": [
  {
   "cell_type": "code",
   "execution_count": 1,
   "metadata": {},
   "outputs": [
    {
     "name": "stdout",
     "output_type": "stream",
     "text": [
      "Enter your final condition where you want to break the loop :1\n",
      "the value of count: 0\n",
      "I am using while loop 1 time.\n"
     ]
    }
   ],
   "source": [
    "count = 0\n",
    "f = eval(input(\"Enter your final condition where you want to break the loop :\"))\n",
    "\n",
    "while(count < f):\n",
    "    print(\"the value of count:\",count)\n",
    "    count = count + 1\n",
    "    print(\"I am using while loop\",count,\"time.\")"
   ]
  },
  {
   "cell_type": "code",
   "execution_count": null,
   "metadata": {},
   "outputs": [],
   "source": [
    "var = 1 \n",
    "while var == 1 :\n",
    "    num = eval(input(\"Enter a Number \"))\n",
    "    print(\"you entered :\",num)\n",
    "    \n",
    "print(\"End of loop!\")\n",
    "#Ctrl + c breaks the loop"
   ]
  },
  {
   "cell_type": "code",
   "execution_count": 3,
   "metadata": {},
   "outputs": [
    {
     "name": "stdout",
     "output_type": "stream",
     "text": [
      "Enter the value to execute the while loop:6\n",
      "The sum is : 21\n"
     ]
    }
   ],
   "source": [
    "n = eval(input(\"Enter the value to execute the while loop:\"))\n",
    "sum = 0\n",
    "i = 1 \n",
    "while i <= n:\n",
    "    sum = sum + i\n",
    "    i = i+1\n",
    "print(\"The sum is :\",sum)"
   ]
  },
  {
   "cell_type": "code",
   "execution_count": 4,
   "metadata": {},
   "outputs": [
    {
     "name": "stdout",
     "output_type": "stream",
     "text": [
      "0 is less than final condition\n",
      "1 is less than final condition\n",
      "2 is less than final condition\n",
      "3 is less than final condition\n",
      "4 is less than final condition\n",
      "5 is less than final condition\n",
      "6 is less than final condition\n",
      "7 is less than final condition\n",
      "8 is less than final condition\n",
      "9 is less than final condition\n",
      "10 is not less than final condition\n"
     ]
    }
   ],
   "source": [
    "i = 0\n",
    "f = 10\n",
    "while i < f:\n",
    "    print(i,\"is less than final condition\")\n",
    "    i = i + 1 \n",
    "else:\n",
    "    print(i,\"is not less than final condition\")"
   ]
  },
  {
   "cell_type": "code",
   "execution_count": 5,
   "metadata": {},
   "outputs": [
    {
     "name": "stdout",
     "output_type": "stream",
     "text": [
      "5\n"
     ]
    }
   ],
   "source": [
    "def f(x):\n",
    "    res = x**2+1\n",
    "    return res\n",
    "print(f(2))"
   ]
  },
  {
   "cell_type": "code",
   "execution_count": 6,
   "metadata": {},
   "outputs": [
    {
     "name": "stdout",
     "output_type": "stream",
     "text": [
      "[1, 8, 27, 64, 125, 216]\n",
      "[15625, 17576, 19683, 21952, 24389, 27000]\n"
     ]
    }
   ],
   "source": [
    "def CubeValue():\n",
    "    lst = list()\n",
    "    for i in range(1,31):\n",
    "        lst.append(i**3)\n",
    "    print(lst[:6])\n",
    "    print(lst[-6:])\n",
    "CubeValue()"
   ]
  },
  {
   "cell_type": "code",
   "execution_count": 8,
   "metadata": {},
   "outputs": [
    {
     "name": "stdout",
     "output_type": "stream",
     "text": [
      "['W', 'n', 'e', 'b', 'f', 's', 'X', 'm', 'f', 'n', 'p', 'm']\n"
     ]
    }
   ],
   "source": [
    "def ceasar_encrypt(realText, step):\n",
    "    outText=[]\n",
    "    cryptText=[]\n",
    "    \n",
    "    uppercase=['A','B','C','D','E','F','G','H','I','J','K','L','M','N','O','P','Q','R','S','T','U','V','W','X','Y','Z']\n",
    "    lowercase=['a','b','c','d','e','f','g','h','i','j','k','l','m','n','o','p','q','r','s','t','u','v','w','x','y','z']\n",
    "    \n",
    "    for eachLetter in realText:\n",
    "        if eachLetter in uppercase:\n",
    "            index = uppercase.index(eachLetter)\n",
    "            crypting = (index+step)%26\n",
    "            cryptText.append(crypting)\n",
    "            newletter = uppercase[crypting]\n",
    "            outText.append(newletter)\n",
    "        elif eachLetter in lowercase:\n",
    "            index = lowercase.index(eachLetter)\n",
    "            crypting = (index+step)%26\n",
    "            cryptText.append(crypting)\n",
    "            newLetter = lowercase[crypting]\n",
    "            outText.append(newLetter)\n",
    "            \n",
    "    return print(outText)\n",
    "ceasar_encrypt('Rizwan Shaikh',5)"
   ]
  }
 ],
 "metadata": {
  "kernelspec": {
   "display_name": "Python 3",
   "language": "python",
   "name": "python3"
  },
  "language_info": {
   "codemirror_mode": {
    "name": "ipython",
    "version": 3
   },
   "file_extension": ".py",
   "mimetype": "text/x-python",
   "name": "python",
   "nbconvert_exporter": "python",
   "pygments_lexer": "ipython3",
   "version": "3.7.4"
  }
 },
 "nbformat": 4,
 "nbformat_minor": 2
}
